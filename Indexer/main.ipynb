{
 "cells": [
  {
   "cell_type": "code",
   "execution_count": 14,
   "id": "4a7f7f45",
   "metadata": {},
   "outputs": [
    {
     "name": "stdout",
     "output_type": "stream",
     "text": [
      "title      20\n",
      "content     0\n",
      "link        0\n",
      "dtype: int64\n",
      "title      0\n",
      "content    0\n",
      "link       0\n",
      "dtype: int64\n",
      "                  title                                            content  \\\n",
      "0  Association football  , commonly known as , or , is a  played betwee...   \n",
      "1     Shrewsbury School   is a  (English   for pupils aged 13 –18) in ....   \n",
      "\n",
      "                                                link  \\\n",
      "0  https://en.wikipedia.org/wiki/Association_foot...   \n",
      "1    https://en.wikipedia.org/wiki/Shrewsbury_School   \n",
      "\n",
      "                                                text  \n",
      "0  Association football , commonly known as , or ...  \n",
      "1  Shrewsbury School  is a  (English   for pupils...  \n"
     ]
    }
   ],
   "source": [
    "import pandas as pd\n",
    "\n",
    "data = pd.read_json('../Crawler/webscraper/webscraper/spiders/data.json')\n",
    "\n",
    "print(data.isnull().sum())\n",
    "data = data.dropna()\n",
    "data = data.fillna('')\n",
    "print(data.isnull().sum())\n",
    "\n",
    "doc = []\n",
    "urls = []\n",
    "\n",
    "\n",
    "\n",
    "\n",
    "data['text'] = data['title'] + ' ' + data['content']\n",
    "texts = data['text'].tolist()\n",
    "urls = data['link'].tolist()\n",
    "\n",
    "\n",
    "print(data[:2])\n",
    "# print(urls[:1])\n",
    "\n",
    "\n",
    "\n",
    "\n"
   ]
  },
  {
   "cell_type": "code",
   "execution_count": 9,
   "id": "9e463564",
   "metadata": {},
   "outputs": [
    {
     "name": "stdout",
     "output_type": "stream",
     "text": [
      "title      20\n",
      "content     0\n",
      "link        0\n",
      "text       20\n",
      "dtype: int64\n"
     ]
    }
   ],
   "source": []
  },
  {
   "cell_type": "code",
   "execution_count": 15,
   "id": "5de03514",
   "metadata": {},
   "outputs": [],
   "source": [
    "from sklearn.feature_extraction.text import TfidfVectorizer\n",
    "\n",
    "vectorizer = TfidfVectorizer()\n",
    "tfidf_matrix = vectorizer.fit_transform(texts)"
   ]
  },
  {
   "cell_type": "code",
   "execution_count": 16,
   "id": "b2e25c80",
   "metadata": {},
   "outputs": [],
   "source": [
    "import pickle\n",
    "\n",
    "# Save the TF-IDF matrix\n",
    "with open('tfidf_matrix.pkl', 'wb') as file:\n",
    "    pickle.dump(tfidf_matrix, file)\n",
    "\n",
    "# Save the vectorizer (for future transformations)\n",
    "with open('vectorizer.pkl', 'wb') as file:\n",
    "    pickle.dump(vectorizer, file)\n",
    "\n",
    "# Save the URLs list to keep track of documents\n",
    "with open('urls.pkl', 'wb') as file:\n",
    "    pickle.dump(urls, file)\n"
   ]
  },
  {
   "cell_type": "code",
   "execution_count": 17,
   "id": "d22ceb57",
   "metadata": {},
   "outputs": [
    {
     "name": "stdout",
     "output_type": "stream",
     "text": [
      "Top 5 most relevant URLs: ['https://en.wikipedia.org/wiki/English_public_school_football_games', 'https://en.wikipedia.org/wiki/Roman_historiography', 'https://en.wikipedia.org/wiki/Peter_Brown_(historian)', 'https://en.wikipedia.org/wiki/Christopher_Kelly_(historian)', 'https://en.wikipedia.org/wiki/Livy']\n"
     ]
    }
   ],
   "source": [
    "from sklearn.metrics.pairwise import cosine_similarity\n",
    "\n",
    "# Load the saved objects\n",
    "with open('tfidf_matrix.pkl', 'rb') as file:\n",
    "    tfidf_matrix = pickle.load(file)\n",
    "\n",
    "with open('vectorizer.pkl', 'rb') as file:\n",
    "    vectorizer = pickle.load(file)\n",
    "\n",
    "with open('urls.pkl', 'rb') as file:\n",
    "    urls = pickle.load(file)\n",
    "\n",
    "def handle_query(query, top_k=5):\n",
    "    # Convert the query to a TF-IDF vector\n",
    "    query_vector = vectorizer.transform([query])\n",
    "\n",
    "    # Calculate cosine similarity between the query vector and the TF-IDF matrix\n",
    "    similarity_scores = cosine_similarity(query_vector, tfidf_matrix)[0]\n",
    "\n",
    "    # Get the indices of the top-K most similar documents\n",
    "    top_k_indices = similarity_scores.argsort()[-top_k:][::-1]\n",
    "\n",
    "    # Retrieve the URLs of the top-K most similar documents\n",
    "    top_k_urls = [urls[i] for i in top_k_indices]\n",
    "\n",
    "    return top_k_urls\n",
    "\n",
    "# Example usage\n",
    "query = 'soccer history'\n",
    "top_k_urls = handle_query(query, top_k=5)\n",
    "print('Top 5 most relevant URLs:', top_k_urls)\n"
   ]
  },
  {
   "cell_type": "code",
   "execution_count": null,
   "id": "63c1c1cd",
   "metadata": {},
   "outputs": [],
   "source": []
  }
 ],
 "metadata": {
  "kernelspec": {
   "display_name": "Python 3 (ipykernel)",
   "language": "python",
   "name": "python3"
  },
  "language_info": {
   "codemirror_mode": {
    "name": "ipython",
    "version": 3
   },
   "file_extension": ".py",
   "mimetype": "text/x-python",
   "name": "python",
   "nbconvert_exporter": "python",
   "pygments_lexer": "ipython3",
   "version": "3.11.5"
  }
 },
 "nbformat": 4,
 "nbformat_minor": 5
}
